{
 "cells": [
  {
   "cell_type": "code",
   "execution_count": null,
   "metadata": {},
   "outputs": [],
   "source": [
    "# importação dos pacotes\n",
    "import pandas as pd\n",
    "import numpy as np\n",
    "from  numpy import datetime64"
   ]
  },
  {
   "cell_type": "code",
   "execution_count": null,
   "metadata": {},
   "outputs": [],
   "source": [
    "# Carregando Dataset\n",
    "data = pd.read_csv(\"Dados/Inscrições.csv\",index_col = 0)"
   ]
  },
  {
   "attachments": {},
   "cell_type": "markdown",
   "metadata": {},
   "source": [
    "### limpeza de dados"
   ]
  },
  {
   "cell_type": "code",
   "execution_count": null,
   "metadata": {},
   "outputs": [],
   "source": [
    "data.dtypes"
   ]
  },
  {
   "cell_type": "code",
   "execution_count": null,
   "metadata": {},
   "outputs": [],
   "source": [
    "# verificando se há valores duplicados (Colunas)\n",
    "data.duplicated().sum()"
   ]
  },
  {
   "cell_type": "code",
   "execution_count": null,
   "metadata": {},
   "outputs": [],
   "source": [
    "# renomeando colunas\n",
    "data.columns = [\"Nome\",\"UF\",\"Cidade\",\"Pais\",\"Universidade\",\"Formação\",\"Área\",\"SubA\",\"Email\",\"Data Inscrição\",\"N Inscrição\",\"Categoria\",\"Inscrição\",\"Informação\",\"Curso\",\"Gênero\",\"Ensino\",\"Outra Instituição\",\"Outro Curso\",\"Nome de Curso\",\"Trabalho\",\"PCD\"]"
   ]
  },
  {
   "cell_type": "code",
   "execution_count": null,
   "metadata": {},
   "outputs": [],
   "source": [
    "# verificando se há valores ausentes\n",
    "data.isna().sum()"
   ]
  },
  {
   "cell_type": "code",
   "execution_count": null,
   "metadata": {},
   "outputs": [],
   "source": [
    "# Tratando valores ausentes - Trabalho\n",
    "data[\"Trabalho\"] = data[\"Trabalho\"].replace(np.nan,\"Não Respondeu\")"
   ]
  },
  {
   "cell_type": "code",
   "execution_count": null,
   "metadata": {},
   "outputs": [],
   "source": [
    "# Tratando valores ausentes - genero\n",
    "data[\"Gênero\"] = data[\"Gênero\"].replace(np.nan,\"Não Respondeu\")"
   ]
  },
  {
   "cell_type": "code",
   "execution_count": null,
   "metadata": {},
   "outputs": [],
   "source": [
    "# Tratando valores ausentes - PCD\n",
    "data[\"PCD\"] = data[\"PCD\"].replace(np.nan,\"Não\")"
   ]
  },
  {
   "cell_type": "code",
   "execution_count": null,
   "metadata": {},
   "outputs": [],
   "source": [
    "# tratando valores ausentes - Universidade - Outra insticuição\n",
    "data[[\"Universidade\",\"Outra Instituição\"]]"
   ]
  },
  {
   "cell_type": "code",
   "execution_count": null,
   "metadata": {},
   "outputs": [],
   "source": [
    "# concatenar as duas colunas da universidade criando nova coluna\n",
    "data[\"Instituição\"] = pd.concat([data[\"Universidade\"],data[\"Outra Instituição\"]], ignore_index=True)"
   ]
  },
  {
   "cell_type": "code",
   "execution_count": null,
   "metadata": {},
   "outputs": [],
   "source": [
    "# tratando valores ausentes da nova coluna Instituição\n",
    "data[\"Instituição\"] = data[\"Instituição\"].replace(np.nan,\"Não Respondeu\")"
   ]
  },
  {
   "cell_type": "code",
   "execution_count": null,
   "metadata": {},
   "outputs": [],
   "source": [
    "# excluindo colunas anteriores\n",
    "data = data.drop([\"Universidade\",\"Outra Instituição\"], axis = 1)"
   ]
  },
  {
   "cell_type": "code",
   "execution_count": null,
   "metadata": {},
   "outputs": [],
   "source": [
    "# concatenando colunas Curso com Nome de Curso\n",
    "data[\"Cursando\"] = pd.concat([data[\"Curso\"],data[\"Nome de Curso\"]], ignore_index= True)"
   ]
  },
  {
   "cell_type": "code",
   "execution_count": null,
   "metadata": {},
   "outputs": [],
   "source": [
    "# excluindo colunas Curso e Nome de Curso\n",
    "data = data.drop([\"Curso\",\"Nome de Curso\"], axis = 1)"
   ]
  },
  {
   "cell_type": "code",
   "execution_count": null,
   "metadata": {},
   "outputs": [],
   "source": [
    "# concatenando nova coluna criado com coluna Outro Curso\n",
    "data[\"Cursando\"] = pd.concat([data[\"Cursando\"],data[\"Outro Curso\"]], ignore_index= True);data[\"Cursando\"]"
   ]
  },
  {
   "cell_type": "code",
   "execution_count": null,
   "metadata": {},
   "outputs": [],
   "source": [
    "# excluindo coluna Ooutro Curso\n",
    "data = data.drop([\"Outro Curso\"], axis = 1)"
   ]
  },
  {
   "cell_type": "code",
   "execution_count": null,
   "metadata": {},
   "outputs": [],
   "source": [
    "# tratando valores ausentes - Formação\n",
    "data[\"Formação\"] = data[\"Formação\"].replace(np.nan,\"Não Respondeu\")"
   ]
  },
  {
   "cell_type": "code",
   "execution_count": null,
   "metadata": {},
   "outputs": [],
   "source": [
    "data"
   ]
  },
  {
   "attachments": {},
   "cell_type": "markdown",
   "metadata": {},
   "source": [
    "### Exportação"
   ]
  },
  {
   "cell_type": "code",
   "execution_count": 43,
   "metadata": {},
   "outputs": [],
   "source": [
    "data.to_csv(\"Dados/dados_evento.csv\")"
   ]
  }
 ],
 "metadata": {
  "kernelspec": {
   "display_name": "base",
   "language": "python",
   "name": "python3"
  },
  "language_info": {
   "codemirror_mode": {
    "name": "ipython",
    "version": 3
   },
   "file_extension": ".py",
   "mimetype": "text/x-python",
   "name": "python",
   "nbconvert_exporter": "python",
   "pygments_lexer": "ipython3",
   "version": "3.10.4"
  },
  "orig_nbformat": 4,
  "vscode": {
   "interpreter": {
    "hash": "fb8bbe35ce05a967cc1765cb51a1a815dfdecdfebe5b24f692427b5b8ca49088"
   }
  }
 },
 "nbformat": 4,
 "nbformat_minor": 2
}
