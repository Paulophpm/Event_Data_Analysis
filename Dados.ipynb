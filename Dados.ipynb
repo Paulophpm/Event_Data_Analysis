{
 "cells": [
  {
   "cell_type": "code",
   "execution_count": 1,
   "metadata": {},
   "outputs": [],
   "source": [
    "# importação dos pacotes\n",
    "import pandas as pd\n",
    "import numpy as np\n",
    "from  numpy import datetime64"
   ]
  },
  {
   "cell_type": "code",
   "execution_count": 74,
   "metadata": {},
   "outputs": [],
   "source": [
    "# Carregando Dataset\n",
    "data = pd.read_csv(\"Dados/Inscrições.csv\",index_col = 0)"
   ]
  },
  {
   "attachments": {},
   "cell_type": "markdown",
   "metadata": {},
   "source": [
    "### limpeza de dados"
   ]
  },
  {
   "cell_type": "code",
   "execution_count": 75,
   "metadata": {},
   "outputs": [
    {
     "data": {
      "text/plain": [
       "Nome                                        object\n",
       "UF                                          object\n",
       "Cidade                                      object\n",
       "País                                        object\n",
       "Instituição                                 object\n",
       "Formação                                    object\n",
       "Área                                        object\n",
       "Sub Área                                    object\n",
       "e-mail                                      object\n",
       "Data Inscrição                              object\n",
       "Número de Inscrição                          int64\n",
       "Categoria                                   object\n",
       "Inscrição                                   object\n",
       "Como conheceu o evento?                     object\n",
       "Curso                                       object\n",
       "Gênero                                      object\n",
       "Instituição de Ensino                       object\n",
       "Outra instituição de ensino                 object\n",
       "Outro curso                                 object\n",
       "Se sim, qual?                               object\n",
       "Trabalha?                                   object\n",
       "Você possui alguma necessidade especial?    object\n",
       "dtype: object"
      ]
     },
     "execution_count": 75,
     "metadata": {},
     "output_type": "execute_result"
    }
   ],
   "source": [
    "data.dtypes"
   ]
  },
  {
   "cell_type": "code",
   "execution_count": 76,
   "metadata": {},
   "outputs": [
    {
     "data": {
      "text/plain": [
       "0"
      ]
     },
     "execution_count": 76,
     "metadata": {},
     "output_type": "execute_result"
    }
   ],
   "source": [
    "# valores duplicados\n",
    "data.duplicated().sum()"
   ]
  },
  {
   "cell_type": "code",
   "execution_count": 77,
   "metadata": {},
   "outputs": [],
   "source": [
    "# renomeando colunas\n",
    "data.columns = [\"Nome\",\"UF\",\"Cidade\",\"Pais\",\"Universidade\",\"Formação\",\"Área\",\"SubA\",\"Email\",\"Data Inscrição\",\"N Inscrição\",\"Categoria\",\"Inscrição\",\"Informação\",\"Curso\",\"Gênero\",\"Ensino\",\"Outra Instituição\",\"Outro Curso\",\"Nome de Curso\",\"Trabalho\",\"PCD\"]"
   ]
  },
  {
   "cell_type": "code",
   "execution_count": null,
   "metadata": {},
   "outputs": [],
   "source": [
    "# valores ausentes\n",
    "data.isna().sum()"
   ]
  },
  {
   "cell_type": "code",
   "execution_count": 78,
   "metadata": {},
   "outputs": [],
   "source": [
    "# Tratando valores ausentes Trabalho\n",
    "data[\"Trabalho\"] = data[\"Trabalho\"].replace(np.nan,\"Não Respondeu\")"
   ]
  },
  {
   "cell_type": "code",
   "execution_count": 80,
   "metadata": {},
   "outputs": [],
   "source": [
    "# Tratando valores ausentes genero\n",
    "data[\"Gênero\"] = data[\"Gênero\"].replace(np.nan,\"Não Respondeu\")"
   ]
  },
  {
   "cell_type": "code",
   "execution_count": 82,
   "metadata": {},
   "outputs": [],
   "source": [
    "# Tratando valores ausentes PCD\n",
    "data[\"PCD\"] = data[\"PCD\"].replace(np.nan,\"Não\")"
   ]
  },
  {
   "cell_type": "code",
   "execution_count": null,
   "metadata": {},
   "outputs": [],
   "source": [
    "# tratando vlaores ausentes - Curso - Outro Cursos\n",
    "data[[\"Universidade\",\"Outra Instituição\"]]"
   ]
  },
  {
   "cell_type": "code",
   "execution_count": null,
   "metadata": {},
   "outputs": [],
   "source": [
    "data[\"Universidade\"] = [x for x in data[\"Universidade\"] if x != np.nan]"
   ]
  },
  {
   "attachments": {},
   "cell_type": "markdown",
   "metadata": {},
   "source": [
    "### Engenharia de Atributo"
   ]
  },
  {
   "cell_type": "code",
   "execution_count": null,
   "metadata": {},
   "outputs": [],
   "source": [
    "#data[[\"Universidade\"]].value_counts()"
   ]
  },
  {
   "cell_type": "code",
   "execution_count": null,
   "metadata": {},
   "outputs": [],
   "source": [
    "# concatenar [\"Curso\", \"Nome de Curso\",\"Outro Curso\"]"
   ]
  },
  {
   "attachments": {},
   "cell_type": "markdown",
   "metadata": {},
   "source": [
    "### Exportação"
   ]
  },
  {
   "cell_type": "code",
   "execution_count": null,
   "metadata": {},
   "outputs": [],
   "source": [
    "data.to_csv(\"dados_evento.csv\")"
   ]
  }
 ],
 "metadata": {
  "kernelspec": {
   "display_name": "Python 3",
   "language": "python",
   "name": "python3"
  },
  "language_info": {
   "codemirror_mode": {
    "name": "ipython",
    "version": 3
   },
   "file_extension": ".py",
   "mimetype": "text/x-python",
   "name": "python",
   "nbconvert_exporter": "python",
   "pygments_lexer": "ipython3",
   "version": "3.9.12"
  },
  "orig_nbformat": 4
 },
 "nbformat": 4,
 "nbformat_minor": 2
}
